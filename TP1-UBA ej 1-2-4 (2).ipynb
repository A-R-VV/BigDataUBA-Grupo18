{
 "cells": [
  {
   "cell_type": "markdown",
   "metadata": {
    "collapsed": true,
    "id": "Dh8MkXaG-c9Y",
    "jupyter": {
     "outputs_hidden": true
    }
   },
   "source": [
    "# Big Data y Machine Learning (UBA) -  2025\n",
    "\n",
    "## Trabajo Práctico 1: Jugando con APIs y WebScraping "
   ]
  },
  {
   "cell_type": "markdown",
   "metadata": {
    "id": "RhBlm6mZ-c9e"
   },
   "source": [
    "### Reglas de formato y presentación\n",
    "- El trabajo debe estar debidamente documentado comentado (utilizando #) para que tanto los docentes como sus compañeros puedan comprender el código fácilmente.\n",
    "\n",
    "- El mismo debe ser completado en este Jupyter Notebook y entregado como tal, es decir en un archivo .ipynb\n"
   ]
  },
  {
   "cell_type": "markdown",
   "metadata": {
    "id": "ZEjGaa4U-c9g"
   },
   "source": [
    "### Fecha de entrega:\n",
    "Viernes 4 de Abril a las 13:00 hs"
   ]
  },
  {
   "cell_type": "markdown",
   "metadata": {
    "id": "N9TU2y7E-c9h"
   },
   "source": [
    "### Modalidad de entrega\n",
    "- Al finalizar el trabajo práctico deben hacer un último <i>commit</i> en su repositorio de GitHub llamado “Entrega final del tp”. \n",
    "- Asegurense de haber creado una carpeta llamada TP1. Este Jupyter Notebook y el correspondiente al TP1 deben estar dentro de esa carpeta.\n",
    "- También deben enviar el link de su repositorio -para que pueda ser clonado y corregido- a mi correo 25RO35480961@campus.economicas.uba.ar. Usar de asunto de email <i>\"Big Data - TP 1 - Grupo #\"</i> y nombrar el archivo <i>\"TP1_Grupo #\"</i> donde # es el número de grupo que le fue asignado.\n",
    "- La última versión en el repositorio es la que será evaluada. Por lo que es importante que: \n",
    "    - No envien el correo hasta no haber terminado y estar seguros de que han hecho el <i>commit y push</i> a la versión final que quieren entregar. \n",
    "    - No hagan nuevos <i>push</i> despues de haber entregado su versión final. Esto generaría confusión acerca de que versión es la que quieren que se les corrija.\n",
    "- En resumen, la carpeta del repositorio debe incluir:\n",
    "    - El codigo\n",
    "    - Un documento Word (Parte A) donde esten las figuras y una breve descripción de las mismas.\n",
    "    - El excel con los links webscrappeados (Parte B)"
   ]
  },
  {
   "cell_type": "markdown",
   "metadata": {},
   "source": [
    "### Parte A"
   ]
  },
  {
   "cell_type": "markdown",
   "metadata": {
    "id": "ZXbrPraa-c9i"
   },
   "source": [
    "#### Ejercicio 1 - Jugando con APIs\n",
    "Usando la API del Banco Mundial [link](https://wbdata.readthedocs.io/en/stable/) , obtener dos series de indicadores para dos paises a elección en una consulta de búsqueda. Pueden buscar serie de indicadores de su interés."
   ]
  },
  {
   "cell_type": "code",
   "execution_count": 150,
   "metadata": {},
   "outputs": [],
   "source": [
    "#instalamos los elementos con los cuales vamos a trabajar \n",
    "import wbdata\n",
    "import datetime\n",
    "import pandas as pd"
   ]
  },
  {
   "cell_type": "code",
   "execution_count": 152,
   "metadata": {},
   "outputs": [],
   "source": [
    "#Definimos los indicadores que seleccionamos y los cuales basamos el ejercicio (Tasa de Desempleo y Poblacion Total)\n",
    "indicadores = {\"SL.UEM.TOTL.ZS\": \"Tasa de Desempleo (%)\",\"SP.POP.TOTL\": \"Población Total\"}\n",
    "\n",
    "#Definimos los paises trabajados Argentina-Brasil y obtenemos los datos de la API)\n",
    "data = wbdata.get_dataframe(indicadores, country=[\"ARG\",\"GBR\"])\n",
    "\n",
    "df = pd.DataFrame(data=data)"
   ]
  },
  {
   "cell_type": "code",
   "execution_count": 154,
   "metadata": {},
   "outputs": [
    {
     "data": {
      "text/html": [
       "<div>\n",
       "<style scoped>\n",
       "    .dataframe tbody tr th:only-of-type {\n",
       "        vertical-align: middle;\n",
       "    }\n",
       "\n",
       "    .dataframe tbody tr th {\n",
       "        vertical-align: top;\n",
       "    }\n",
       "\n",
       "    .dataframe thead th {\n",
       "        text-align: right;\n",
       "    }\n",
       "</style>\n",
       "<table border=\"1\" class=\"dataframe\">\n",
       "  <thead>\n",
       "    <tr style=\"text-align: right;\">\n",
       "      <th></th>\n",
       "      <th></th>\n",
       "      <th>Tasa de Desempleo (%)</th>\n",
       "      <th>Población Total</th>\n",
       "    </tr>\n",
       "    <tr>\n",
       "      <th>country</th>\n",
       "      <th>date</th>\n",
       "      <th></th>\n",
       "      <th></th>\n",
       "    </tr>\n",
       "  </thead>\n",
       "  <tbody>\n",
       "    <tr>\n",
       "      <th rowspan=\"5\" valign=\"top\">Argentina</th>\n",
       "      <th>2023</th>\n",
       "      <td>6.139</td>\n",
       "      <td>45538401.0</td>\n",
       "    </tr>\n",
       "    <tr>\n",
       "      <th>2022</th>\n",
       "      <td>6.805</td>\n",
       "      <td>45407904.0</td>\n",
       "    </tr>\n",
       "    <tr>\n",
       "      <th>2021</th>\n",
       "      <td>8.736</td>\n",
       "      <td>45312281.0</td>\n",
       "    </tr>\n",
       "    <tr>\n",
       "      <th>2020</th>\n",
       "      <td>11.461</td>\n",
       "      <td>45191965.0</td>\n",
       "    </tr>\n",
       "    <tr>\n",
       "      <th>2019</th>\n",
       "      <td>9.843</td>\n",
       "      <td>44973465.0</td>\n",
       "    </tr>\n",
       "    <tr>\n",
       "      <th>...</th>\n",
       "      <th>...</th>\n",
       "      <td>...</td>\n",
       "      <td>...</td>\n",
       "    </tr>\n",
       "    <tr>\n",
       "      <th rowspan=\"5\" valign=\"top\">United Kingdom</th>\n",
       "      <th>1964</th>\n",
       "      <td>NaN</td>\n",
       "      <td>54000000.0</td>\n",
       "    </tr>\n",
       "    <tr>\n",
       "      <th>1963</th>\n",
       "      <td>NaN</td>\n",
       "      <td>53650000.0</td>\n",
       "    </tr>\n",
       "    <tr>\n",
       "      <th>1962</th>\n",
       "      <td>NaN</td>\n",
       "      <td>53250000.0</td>\n",
       "    </tr>\n",
       "    <tr>\n",
       "      <th>1961</th>\n",
       "      <td>NaN</td>\n",
       "      <td>52800000.0</td>\n",
       "    </tr>\n",
       "    <tr>\n",
       "      <th>1960</th>\n",
       "      <td>NaN</td>\n",
       "      <td>52400000.0</td>\n",
       "    </tr>\n",
       "  </tbody>\n",
       "</table>\n",
       "<p>128 rows × 2 columns</p>\n",
       "</div>"
      ],
      "text/plain": [
       "                     Tasa de Desempleo (%)  Población Total\n",
       "country        date                                        \n",
       "Argentina      2023                  6.139       45538401.0\n",
       "               2022                  6.805       45407904.0\n",
       "               2021                  8.736       45312281.0\n",
       "               2020                 11.461       45191965.0\n",
       "               2019                  9.843       44973465.0\n",
       "...                                    ...              ...\n",
       "United Kingdom 1964                    NaN       54000000.0\n",
       "               1963                    NaN       53650000.0\n",
       "               1962                    NaN       53250000.0\n",
       "               1961                    NaN       52800000.0\n",
       "               1960                    NaN       52400000.0\n",
       "\n",
       "[128 rows x 2 columns]"
      ]
     },
     "execution_count": 154,
     "metadata": {},
     "output_type": "execute_result"
    }
   ],
   "source": [
    "df"
   ]
  },
  {
   "cell_type": "code",
   "execution_count": 169,
   "metadata": {},
   "outputs": [
    {
     "data": {
      "text/html": [
       "<div>\n",
       "<style scoped>\n",
       "    .dataframe tbody tr th:only-of-type {\n",
       "        vertical-align: middle;\n",
       "    }\n",
       "\n",
       "    .dataframe tbody tr th {\n",
       "        vertical-align: top;\n",
       "    }\n",
       "\n",
       "    .dataframe thead th {\n",
       "        text-align: right;\n",
       "    }\n",
       "</style>\n",
       "<table border=\"1\" class=\"dataframe\">\n",
       "  <thead>\n",
       "    <tr style=\"text-align: right;\">\n",
       "      <th></th>\n",
       "      <th></th>\n",
       "      <th>Tasa de Desempleo (%)</th>\n",
       "      <th>Población Total</th>\n",
       "    </tr>\n",
       "    <tr>\n",
       "      <th>country</th>\n",
       "      <th>date</th>\n",
       "      <th></th>\n",
       "      <th></th>\n",
       "    </tr>\n",
       "  </thead>\n",
       "  <tbody>\n",
       "    <tr>\n",
       "      <th>Argentina</th>\n",
       "      <th>2023</th>\n",
       "      <td>6.139</td>\n",
       "      <td>45538401.0</td>\n",
       "    </tr>\n",
       "    <tr>\n",
       "      <th>Brazil</th>\n",
       "      <th>2023</th>\n",
       "      <td>7.947</td>\n",
       "      <td>211140729.0</td>\n",
       "    </tr>\n",
       "  </tbody>\n",
       "</table>\n",
       "</div>"
      ],
      "text/plain": [
       "                Tasa de Desempleo (%)  Población Total\n",
       "country   date                                        \n",
       "Argentina 2023                  6.139       45538401.0\n",
       "Brazil    2023                  7.947      211140729.0"
      ]
     },
     "execution_count": 169,
     "metadata": {},
     "output_type": "execute_result"
    }
   ],
   "source": [
    "#buscaremos hacer el solo el ultimo año visible asi comparamos datos mas actualizados\n",
    "\n",
    "df_2023 = df_2023.set_index([\"country\", \"date\"])\n",
    "df_2023\n",
    "\n"
   ]
  },
  {
   "cell_type": "markdown",
   "metadata": {},
   "source": [
    "#### Ejercicio 2 - Repaso de Pandas\n",
    "Realicen una estadistica descriptiva de ambas series de indicadores comparando los dos países."
   ]
  },
  {
   "cell_type": "code",
   "execution_count": 25,
   "metadata": {},
   "outputs": [
    {
     "name": "stdout",
     "output_type": "stream",
     "text": [
      "       Tasa de Desempleo (%)  Población Total\n",
      "count              66.000000     1.280000e+02\n",
      "mean                8.442818     4.608498e+07\n",
      "std                 3.794821     1.433167e+07\n",
      "min                 3.613000     2.038604e+07\n",
      "25%                 5.527250     3.357772e+07\n",
      "50%                 7.709000     4.896920e+07\n",
      "75%                 9.825250     5.746377e+07\n",
      "max                19.590000     6.835000e+07\n"
     ]
    }
   ],
   "source": [
    "# Realizamos la estadística descriptiva para ambos indicadores\n",
    "descripcion = df.describe()\n",
    "\n",
    "# Mostrar las estadísticas descriptivas\n",
    "print(descripcion)\n",
    "\n",
    "\n",
    "\n"
   ]
  },
  {
   "cell_type": "code",
   "execution_count": 26,
   "metadata": {},
   "outputs": [
    {
     "name": "stdout",
     "output_type": "stream",
     "text": [
      "Estadísticas descriptivas para Argentina:\n",
      "       Tasa de Desempleo (%)  Población Total\n",
      "count              33.000000     6.400000e+01\n",
      "mean               10.639758     3.327053e+07\n",
      "std                 3.951450     7.941125e+06\n",
      "min                 5.440000     2.038604e+07\n",
      "25%                 7.579000     2.618024e+07\n",
      "50%                 9.220000     3.346191e+07\n",
      "75%                13.522000     4.011861e+07\n",
      "max                19.590000     4.553840e+07\n",
      "\n",
      "Estadísticas descriptivas para Brasil:\n",
      "       Tasa de Desempleo (%)  Población Total\n",
      "count              33.000000     6.400000e+01\n",
      "mean                9.421424     1.487278e+08\n",
      "std                 2.102672     4.395877e+07\n",
      "min                 6.030000     7.238813e+07\n",
      "25%                 7.578000     1.095649e+08\n",
      "50%                 9.280000     1.529997e+08\n",
      "75%                10.889000     1.890061e+08\n",
      "max                13.697000     2.111407e+08\n"
     ]
    }
   ],
   "source": [
    "# Dividir los datos por país\n",
    "df_argentina = data[data['country'] == 'Argentina']\n",
    "df_brasil = data[data['country'] == 'Brazil']\n",
    "\n",
    "# Calcular estadísticas descriptivas para cada país\n",
    "descripcion_argentina = df_argentina.describe()\n",
    "descripcion_brasil = df_brasil.describe()\n",
    "\n",
    "# Mostrar las estadísticas\n",
    "print(\"Estadísticas descriptivas para Argentina:\")\n",
    "print(descripcion_argentina)\n",
    "\n",
    "print(\"\\nEstadísticas descriptivas para Brasil:\")\n",
    "print(descripcion_brasil)\n"
   ]
  },
  {
   "cell_type": "markdown",
   "metadata": {},
   "source": [
    "#### Ejercicio 3 - Practicando con Matplotlib\n",
    "Armen dos gráficos distintos usando la librería Matplotlib (repasen Clase 4). Uno programandolo con el estilo *pyplot* y otro gráfico de estilo *orientada a objetos*"
   ]
  },
  {
   "cell_type": "code",
   "execution_count": null,
   "metadata": {},
   "outputs": [],
   "source": [
    "# Resolver acá estilo pyplot\n"
   ]
  },
  {
   "cell_type": "code",
   "execution_count": null,
   "metadata": {},
   "outputs": [],
   "source": [
    "# Resolver acá estilo orientado-objetos \n",
    "# Tip: aprovechar este estilo de programar una figura para hacerlo más lindo \n"
   ]
  },
  {
   "cell_type": "markdown",
   "metadata": {},
   "source": [
    "### Parte B"
   ]
  },
  {
   "cell_type": "markdown",
   "metadata": {},
   "source": [
    "#### Ejercicio 4\n",
    "De la página de noticias del [diario La Nación](https://www.lanacion.com.ar/) o cualquier diario que les interese, utilicen herramientas de web scraping para obtener los **links** de las noticias de la portada. Guarden los links obtenidos en un dataframe y expórtenlo a un archivo de excel.\n",
    "\n",
    "Nota 1: es posible que logren obtener los links a las noticias sin el dominio: \"https://www.lanacion.com.ar/\". De ser así, concatenen el dominio a la ruta del link obtenido, tal que se obtenga un link al que se pueda acceder. Es decir, que las cadenas de caracteres finales tendrán la forma: https://www.lanacion.com.ar/*texto_obtenido*)\n",
    "\n",
    "Nota 2: junto con su entrega, adjunten una captura de la página de noticias al momento de correr su código. Eso servirá al momento de la corrección para verificar que los links obtenidos hacen referencia a las noticias de ese día y hora."
   ]
  },
  {
   "cell_type": "code",
   "execution_count": 1,
   "metadata": {},
   "outputs": [
    {
     "name": "stdout",
     "output_type": "stream",
     "text": [
      "¡Código HTML obtenido con éxito!\n",
      "Se encontraron 153 enlaces.\n",
      "                                   URL\n",
      "0   https://www.lanacion.com.ar/clima/\n",
      "1         https://www.lanacion.com.ar/\n",
      "2   https://www.lanacion.com.ar/autos/\n",
      "3   https://www.lanacion.com.ar/salud/\n",
      "4  https://www.lanacion.com.ar/juegos/\n",
      "¡Archivo noticias_lanacion.xlsx creado con éxito!\n"
     ]
    }
   ],
   "source": [
    "import requests\n",
    "from bs4 import BeautifulSoup\n",
    "import pandas as pd\n",
    "\n",
    "# Paso 1: Obtener el código HTML de la página web\n",
    "url = \"https://www.lanacion.com.ar/\"\n",
    "response = requests.get(url)\n",
    "\n",
    "if response.status_code == 200:\n",
    "    html = response.text\n",
    "    print(\"¡Código HTML obtenido con éxito!\")\n",
    "else:\n",
    "    print(f\"Error al obtener el código HTML: {response.status_code}\")\n",
    "    exit()  # Salir del programa si no se pudo obtener el HTML\n",
    "\n",
    "# Paso 2: Extraer los enlaces de las noticias\n",
    "soup = BeautifulSoup(html, \"html.parser\")\n",
    "links = []\n",
    "\n",
    "for link in soup.find_all(\"a\"):\n",
    "    href = link.get(\"href\")\n",
    "    if href and href.startswith(\"/\"):\n",
    "        full_link = \"https://www.lanacion.com.ar\" + href\n",
    "        links.append(full_link)\n",
    "\n",
    "print(f\"Se encontraron {len(links)} enlaces.\")\n",
    "\n",
    "# Paso 3: Crear un dataframe con los enlaces\n",
    "df = pd.DataFrame(links, columns=[\"URL\"])\n",
    "print(df.head())\n",
    "\n",
    "# Paso 4: Guardar el dataframe en un archivo de Excel\n",
    "df.to_excel(\"noticias_lanacion.xlsx\", index=False)\n",
    "print(\"¡Archivo noticias_lanacion.xlsx creado con éxito!\")\n",
    "\n",
    "# Nota: Recuerda adjuntar una captura de pantalla de la página web al momento de ejecutar el código.\n"
   ]
  },
  {
   "cell_type": "code",
   "execution_count": null,
   "metadata": {},
   "outputs": [],
   "source": []
  }
 ],
 "metadata": {
  "anaconda-cloud": {},
  "colab": {
   "name": "TP1 - Parte 1.ipynb",
   "provenance": []
  },
  "kernelspec": {
   "display_name": "Python [conda env:base] *",
   "language": "python",
   "name": "conda-base-py"
  },
  "language_info": {
   "codemirror_mode": {
    "name": "ipython",
    "version": 3
   },
   "file_extension": ".py",
   "mimetype": "text/x-python",
   "name": "python",
   "nbconvert_exporter": "python",
   "pygments_lexer": "ipython3",
   "version": "3.12.7"
  }
 },
 "nbformat": 4,
 "nbformat_minor": 4
}
